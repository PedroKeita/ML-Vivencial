{
 "cells": [
  {
   "cell_type": "markdown",
   "id": "36dbfb1e",
   "metadata": {},
   "source": [
    "### **Célula para inicializar as importações que vão ser utilizadas ao decorrer das próximas células**"
   ]
  },
  {
   "cell_type": "code",
   "execution_count": 17,
   "id": "12588fe1",
   "metadata": {},
   "outputs": [],
   "source": [
    "import numpy as np\n",
    "import pandas as pd\n",
    "import matplotlib.pyplot as plt\n",
    "from sklearn.linear_model import LinearRegression\n",
    "from sklearn.model_selection import train_test_split\n",
    "from sklearn.metrics import mean_squared_error, mean_absolute_error\n"
   ]
  },
  {
   "cell_type": "markdown",
   "id": "84a7dca6",
   "metadata": {},
   "source": [
    "### **Célula para carregar os dados**"
   ]
  },
  {
   "cell_type": "code",
   "execution_count": 18,
   "id": "7666cb60",
   "metadata": {},
   "outputs": [],
   "source": [
    "def load_data(file_path: str = \"../data/aerogerador.dat\") -> pd.DataFrame:\n",
    "    \"\"\"\n",
    "    Carrega o conjunto de dados do aerogerador a partir de um arquivo.\n",
    "\n",
    "    Args:\n",
    "        file_path (str): Caminho para o arquivo de dados.\n",
    "\n",
    "    Returns:\n",
    "        pd.DataFrame: Conjunto de dados com as colunas [\"velocidade\", \"potencia\"].\n",
    "    \"\"\"\n",
    "    df = pd.read_csv(file_path, sep=r\"\\s+\", header=None, names=[\"velocidade\", \"potencia\"])\n",
    "    return df\n",
    "\n",
    "# Carregar os dados\n",
    "data = load_data()\n"
   ]
  },
  {
   "cell_type": "markdown",
   "id": "c12c0e2b",
   "metadata": {},
   "source": [
    "### **Célula para inicializar o X e y**"
   ]
  },
  {
   "cell_type": "code",
   "execution_count": 19,
   "id": "8f768034",
   "metadata": {},
   "outputs": [],
   "source": [
    "X = data[[\"velocidade\"]].values\n",
    "y = data[\"potencia\"].values"
   ]
  },
  {
   "cell_type": "markdown",
   "id": "8e103b6e",
   "metadata": {},
   "source": [
    "### **Célula responsável em treinar o modelo de regressão linear e calcular MSE e MAE**"
   ]
  },
  {
   "cell_type": "code",
   "execution_count": 20,
   "id": "78dbe701",
   "metadata": {},
   "outputs": [],
   "source": [
    "def train_evaluate(X: np.ndarray, y: np.ndarray, n_iterations: int = 500, test_size: float = 0.2):\n",
    "    \"\"\"\n",
    "    Treina o modelo de regressão linear múltiplas vezes e calcula MSE e MAE.\n",
    "\n",
    "    Args:\n",
    "        X (np.ndarray): Array de features.\n",
    "        y (np.ndarray): Array de valores alvo.\n",
    "        n_iterations (int): Número de divisões aleatórias treino/teste.\n",
    "        test_size (float): Fração do conjunto de teste.\n",
    "\n",
    "    Returns:\n",
    "        dict: Dicionário com listas 'mse' e 'mae'.\n",
    "    \"\"\"\n",
    "    model = LinearRegression()\n",
    "    mse_list, mae_list = [], []\n",
    "\n",
    "    for i in range(n_iterations):\n",
    "        X_train, X_test, y_train, y_test = train_test_split(X, y, test_size=test_size, random_state=i, shuffle=True)\n",
    "        model.fit(X_train, y_train)\n",
    "        y_pred = model.predict(X_test)\n",
    "\n",
    "        mse_list.append(mean_squared_error(y_test, y_pred))\n",
    "        mae_list.append(mean_absolute_error(y_test, y_pred))\n",
    "\n",
    "    return {\"mse\": mse_list, \"mae\": mae_list}\n",
    "\n",
    "metrics = train_evaluate(X, y)\n"
   ]
  },
  {
   "cell_type": "markdown",
   "id": "97a784eb",
   "metadata": {},
   "source": [
    "### **Célula para mostrar o resumo estatístico formatado**\n"
   ]
  },
  {
   "cell_type": "code",
   "execution_count": 21,
   "id": "42171ad4",
   "metadata": {},
   "outputs": [
    {
     "data": {
      "text/html": [
       "<div>\n",
       "<style scoped>\n",
       "    .dataframe tbody tr th:only-of-type {\n",
       "        vertical-align: middle;\n",
       "    }\n",
       "\n",
       "    .dataframe tbody tr th {\n",
       "        vertical-align: top;\n",
       "    }\n",
       "\n",
       "    .dataframe thead th {\n",
       "        text-align: right;\n",
       "    }\n",
       "</style>\n",
       "<table border=\"1\" class=\"dataframe\">\n",
       "  <thead>\n",
       "    <tr style=\"text-align: right;\">\n",
       "      <th></th>\n",
       "      <th>Média</th>\n",
       "      <th>Desvio-padrão</th>\n",
       "      <th>Maior valor</th>\n",
       "      <th>Menor valor</th>\n",
       "    </tr>\n",
       "  </thead>\n",
       "  <tbody>\n",
       "    <tr>\n",
       "      <th>MSE</th>\n",
       "      <td>798.302141</td>\n",
       "      <td>165.195013</td>\n",
       "      <td>1371.823766</td>\n",
       "      <td>456.260910</td>\n",
       "    </tr>\n",
       "    <tr>\n",
       "      <th>MAE</th>\n",
       "      <td>18.402390</td>\n",
       "      <td>0.755098</td>\n",
       "      <td>20.420843</td>\n",
       "      <td>16.266246</td>\n",
       "    </tr>\n",
       "  </tbody>\n",
       "</table>\n",
       "</div>"
      ],
      "text/plain": [
       "          Média  Desvio-padrão  Maior valor  Menor valor\n",
       "MSE  798.302141     165.195013  1371.823766   456.260910\n",
       "MAE   18.402390       0.755098    20.420843    16.266246"
      ]
     },
     "execution_count": 21,
     "metadata": {},
     "output_type": "execute_result"
    }
   ],
   "source": [
    "def summarize_metrics(metrics_list: list):\n",
    "    \"\"\"\n",
    "    Calcula média, desvio padrão, máximo e mínimo de uma lista de métricas.\n",
    "    \"\"\"\n",
    "    return {\n",
    "        \"Média\": np.mean(metrics_list),\n",
    "        \"Desvio-padrão\": np.std(metrics_list, ddof=1),\n",
    "        \"Maior valor\": np.max(metrics_list),\n",
    "        \"Menor valor\": np.min(metrics_list)\n",
    "    }\n",
    "\n",
    "summary = {\"MSE\": summarize_metrics(metrics[\"mse\"]),\n",
    "           \"MAE\": summarize_metrics(metrics[\"mae\"])}\n",
    "\n",
    "pd.DataFrame(summary).T\n"
   ]
  }
 ],
 "metadata": {
  "kernelspec": {
   "display_name": ".venv",
   "language": "python",
   "name": "python3"
  },
  "language_info": {
   "codemirror_mode": {
    "name": "ipython",
    "version": 3
   },
   "file_extension": ".py",
   "mimetype": "text/x-python",
   "name": "python",
   "nbconvert_exporter": "python",
   "pygments_lexer": "ipython3",
   "version": "3.12.3"
  }
 },
 "nbformat": 4,
 "nbformat_minor": 5
}
