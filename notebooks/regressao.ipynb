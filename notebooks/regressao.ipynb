{
 "cells": [
  {
   "cell_type": "markdown",
   "id": "36dbfb1e",
   "metadata": {},
   "source": [
    "### **Célula para inicializar as importações que vão ser utilizadas ao decorrer das próximas células**"
   ]
  },
  {
   "cell_type": "code",
   "execution_count": 22,
   "id": "12588fe1",
   "metadata": {},
   "outputs": [],
   "source": [
    "# Inicialização dos imports do modulo regressao\n",
    "import sys\n",
    "import os\n",
    "sys.path.append(os.path.abspath(\"..\"))  \n",
    "import pandas as pd\n",
    "\n",
    "from regressao.load_data import load_data\n",
    "from regressao.model_runner import run_linear_regression\n",
    "from regressao.metrics import calculate_statistics"
   ]
  },
  {
   "cell_type": "markdown",
   "id": "84a7dca6",
   "metadata": {},
   "source": [
    "### **Célula para carregar os dados**"
   ]
  },
  {
   "cell_type": "code",
   "execution_count": null,
   "id": "7666cb60",
   "metadata": {},
   "outputs": [
    {
     "data": {
      "text/html": [
       "<div>\n",
       "<style scoped>\n",
       "    .dataframe tbody tr th:only-of-type {\n",
       "        vertical-align: middle;\n",
       "    }\n",
       "\n",
       "    .dataframe tbody tr th {\n",
       "        vertical-align: top;\n",
       "    }\n",
       "\n",
       "    .dataframe thead th {\n",
       "        text-align: right;\n",
       "    }\n",
       "</style>\n",
       "<table border=\"1\" class=\"dataframe\">\n",
       "  <thead>\n",
       "    <tr style=\"text-align: right;\">\n",
       "      <th></th>\n",
       "      <th>velocidade</th>\n",
       "      <th>potencia</th>\n",
       "    </tr>\n",
       "  </thead>\n",
       "  <tbody>\n",
       "    <tr>\n",
       "      <th>0</th>\n",
       "      <td>0.0</td>\n",
       "      <td>0</td>\n",
       "    </tr>\n",
       "    <tr>\n",
       "      <th>1</th>\n",
       "      <td>0.0</td>\n",
       "      <td>0</td>\n",
       "    </tr>\n",
       "    <tr>\n",
       "      <th>2</th>\n",
       "      <td>0.0</td>\n",
       "      <td>0</td>\n",
       "    </tr>\n",
       "    <tr>\n",
       "      <th>3</th>\n",
       "      <td>0.0</td>\n",
       "      <td>0</td>\n",
       "    </tr>\n",
       "    <tr>\n",
       "      <th>4</th>\n",
       "      <td>0.0</td>\n",
       "      <td>0</td>\n",
       "    </tr>\n",
       "  </tbody>\n",
       "</table>\n",
       "</div>"
      ],
      "text/plain": [
       "   velocidade  potencia\n",
       "0         0.0         0\n",
       "1         0.0         0\n",
       "2         0.0         0\n",
       "3         0.0         0\n",
       "4         0.0         0"
      ]
     },
     "execution_count": 23,
     "metadata": {},
     "output_type": "execute_result"
    }
   ],
   "source": [
    "# Carregar o dataset de aerogerador\n",
    "data = load_data(\"../data/aerogerador.dat\")\n",
    "data.head()"
   ]
  },
  {
   "cell_type": "markdown",
   "id": "c12c0e2b",
   "metadata": {},
   "source": [
    "### **Célula para inicializar as variáveis independentes e dependentes**"
   ]
  },
  {
   "cell_type": "code",
   "execution_count": 19,
   "id": "8f768034",
   "metadata": {},
   "outputs": [],
   "source": [
    "X = data[[\"velocidade\"]].values\n",
    "y = data[\"potencia\"].values"
   ]
  },
  {
   "cell_type": "markdown",
   "id": "8e103b6e",
   "metadata": {},
   "source": [
    "### **Célula responsável em treinar o modelo de regressão linear e calcular MSE e MAE**"
   ]
  },
  {
   "cell_type": "code",
   "execution_count": 24,
   "id": "78dbe701",
   "metadata": {},
   "outputs": [],
   "source": [
    "# Executar múltiplas rodadas de regressão linear\n",
    "metrics = run_linear_regression(X, y, n_rounds=500)"
   ]
  },
  {
   "cell_type": "markdown",
   "id": "97a784eb",
   "metadata": {},
   "source": [
    "### **Célula para mostrar o resumo estatístico formatado**\n"
   ]
  },
  {
   "cell_type": "code",
   "execution_count": 26,
   "id": "42171ad4",
   "metadata": {},
   "outputs": [
    {
     "data": {
      "text/html": [
       "<div>\n",
       "<style scoped>\n",
       "    .dataframe tbody tr th:only-of-type {\n",
       "        vertical-align: middle;\n",
       "    }\n",
       "\n",
       "    .dataframe tbody tr th {\n",
       "        vertical-align: top;\n",
       "    }\n",
       "\n",
       "    .dataframe thead th {\n",
       "        text-align: right;\n",
       "    }\n",
       "</style>\n",
       "<table border=\"1\" class=\"dataframe\">\n",
       "  <thead>\n",
       "    <tr style=\"text-align: right;\">\n",
       "      <th></th>\n",
       "      <th>Média</th>\n",
       "      <th>Desvio-padrão</th>\n",
       "      <th>Maior valor</th>\n",
       "      <th>Menor valor</th>\n",
       "    </tr>\n",
       "  </thead>\n",
       "  <tbody>\n",
       "    <tr>\n",
       "      <th>MSE</th>\n",
       "      <td>798.302141</td>\n",
       "      <td>165.195013</td>\n",
       "      <td>1371.823766</td>\n",
       "      <td>456.260910</td>\n",
       "    </tr>\n",
       "    <tr>\n",
       "      <th>MAE</th>\n",
       "      <td>18.402390</td>\n",
       "      <td>0.755098</td>\n",
       "      <td>20.420843</td>\n",
       "      <td>16.266246</td>\n",
       "    </tr>\n",
       "  </tbody>\n",
       "</table>\n",
       "</div>"
      ],
      "text/plain": [
       "          Média  Desvio-padrão  Maior valor  Menor valor\n",
       "MSE  798.302141     165.195013  1371.823766   456.260910\n",
       "MAE   18.402390       0.755098    20.420843    16.266246"
      ]
     },
     "execution_count": 26,
     "metadata": {},
     "output_type": "execute_result"
    }
   ],
   "source": [
    "# Calcular estatísticas para MSE e MAE\n",
    "summary = {\n",
    "    \"MSE\": calculate_statistics(metrics[\"MSE\"]),\n",
    "    \"MAE\": calculate_statistics(metrics[\"MAE\"])\n",
    "}\n",
    "\n",
    "# Exibir resultados em tabela\n",
    "pd.DataFrame(summary).T"
   ]
  }
 ],
 "metadata": {
  "kernelspec": {
   "display_name": ".venv",
   "language": "python",
   "name": "python3"
  },
  "language_info": {
   "codemirror_mode": {
    "name": "ipython",
    "version": 3
   },
   "file_extension": ".py",
   "mimetype": "text/x-python",
   "name": "python",
   "nbconvert_exporter": "python",
   "pygments_lexer": "ipython3",
   "version": "3.12.3"
  }
 },
 "nbformat": 4,
 "nbformat_minor": 5
}
